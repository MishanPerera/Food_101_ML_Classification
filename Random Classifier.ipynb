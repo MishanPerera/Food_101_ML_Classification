{
 "cells": [
  {
   "cell_type": "code",
   "execution_count": null,
   "id": "5ef8d500",
   "metadata": {},
   "outputs": [],
   "source": [
    "# Import necessary libraries\n",
    "import numpy as np\n",
    "import pandas as pd\n",
    "from sklearn.model_selection import train_test_split\n",
    "from sklearn.ensemble import RandomForestClassifier\n",
    "from sklearn.metrics import accuracy_score\n",
    "from torchvision.datasets import Food101\n",
    "from pathlib import Path\n",
    "from torchvision import transforms\n",
    "from torch.utils.data import DataLoader\n",
    "from tqdm.auto import tqdm"
   ]
  },
  {
   "cell_type": "code",
   "execution_count": null,
   "id": "d2163e69",
   "metadata": {},
   "outputs": [],
   "source": [
    "MODEL_DIRECTORY = 'models'\n",
    "PATH = Path(MODEL_DIRECTORY)\n",
    "PATH.mkdir(parents= True, exist_ok= True)\n",
    "\n",
    "MODEL_NAME = 'PyTorch_RandomForest.pth'\n",
    "MODEL_PATH = PATH / MODEL_NAME"
   ]
  },
  {
   "cell_type": "code",
   "execution_count": null,
   "id": "5b6d856c",
   "metadata": {},
   "outputs": [],
   "source": [
    "transform = transforms.Compose([\n",
    "    transforms.Resize((224, 224)),  # Resize the images to 224x224\n",
    "    transforms.ToTensor(),  # Convert the images to PyTorch tensors\n",
    "    transforms.Lambda(lambda x: x.flatten())  # Flatten the images to a 1D array\n",
    "])"
   ]
  },
  {
   "cell_type": "code",
   "execution_count": null,
   "id": "e950533b",
   "metadata": {},
   "outputs": [],
   "source": [
    "train_dataset = Food101('data', split= 'train', transform= transform, target_transform= None, download= True)\n",
    "test_dataset = Food101('data', split= 'test', transform= transform, target_transform= None, download= True)"
   ]
  },
  {
   "cell_type": "code",
   "execution_count": null,
   "id": "d4dca926",
   "metadata": {},
   "outputs": [],
   "source": [
    "def convert_to_numpy(loader):\n",
    "    data_list = []\n",
    "    label_list = []\n",
    "    for data, labels in tqdm(loader, total=len(loader)):\n",
    "        data_list.append(data.numpy())\n",
    "        label_list.append(labels.numpy())\n",
    "    data_array = np.concatenate(data_list)\n",
    "    label_array = np.concatenate(label_list)\n",
    "    return data_array, label_array"
   ]
  },
  {
   "cell_type": "code",
   "execution_count": null,
   "id": "006c34a6",
   "metadata": {},
   "outputs": [],
   "source": [
    "# Load the Food101 dataset into PyTorch DataLoader\n",
    "train_loader = DataLoader(train_dataset, batch_size=32, shuffle=True)\n",
    "val_loader = DataLoader(test_dataset, batch_size=32, shuffle=False)"
   ]
  },
  {
   "cell_type": "code",
   "execution_count": null,
   "id": "ff620ae1",
   "metadata": {},
   "outputs": [],
   "source": [
    "# Convert DataLoader to numpy array\n",
    "X_train, y_train = convert_to_numpy(train_loader)\n",
    "X_test, y_test = convert_to_numpy(val_loader)"
   ]
  },
  {
   "cell_type": "code",
   "execution_count": null,
   "id": "fee348af",
   "metadata": {},
   "outputs": [],
   "source": [
    "# Create a Random Forest classifier object\n",
    "model = RandomForestClassifier(n_estimators=100, random_state=42)\n",
    "\n",
    "# Fit the classifier on the training data\n",
    "model.fit(X_train, y_train)"
   ]
  },
  {
   "cell_type": "code",
   "execution_count": null,
   "id": "05a1081b",
   "metadata": {},
   "outputs": [],
   "source": [
    "# Predict the classes for the validation data\n",
    "y_pred = model.predict(X_test)"
   ]
  },
  {
   "cell_type": "code",
   "execution_count": null,
   "id": "71179eb8",
   "metadata": {},
   "outputs": [],
   "source": [
    "# Calculate the accuracy of the classifier\n",
    "accuracy = accuracy_score(y_test, y_pred)\n",
    "print(\"Accuracy: {:.2f}%\".format(accuracy * 100))"
   ]
  }
 ],
 "metadata": {
  "kernelspec": {
   "display_name": "Python 3 (ipykernel)",
   "language": "python",
   "name": "python3"
  },
  "language_info": {
   "codemirror_mode": {
    "name": "ipython",
    "version": 3
   },
   "file_extension": ".py",
   "mimetype": "text/x-python",
   "name": "python",
   "nbconvert_exporter": "python",
   "pygments_lexer": "ipython3",
   "version": "3.9.13"
  }
 },
 "nbformat": 4,
 "nbformat_minor": 5
}
